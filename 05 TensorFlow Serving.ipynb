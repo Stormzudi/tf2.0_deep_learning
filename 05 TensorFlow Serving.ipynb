{
 "cells": [
  {
   "cell_type": "markdown",
   "metadata": {},
   "source": [
    "### [5] 第五部分：TensorFlow Serving  <br/>\n",
    "   &emsp; 5.1 TensorFlow Serving 安装 <br/>\n",
    "   &emsp; 5.2 TensorFlow Serving 模型部署 <br/>\n",
    "   &emsp; 5.3 在客户端调用以 TensorFlow Serving 部署的模型 <br/>"
   ]
  },
  {
   "cell_type": "code",
   "execution_count": null,
   "metadata": {},
   "outputs": [],
   "source": []
  }
 ],
 "metadata": {
  "kernelspec": {
   "display_name": "Python 3",
   "language": "python",
   "name": "python3"
  },
  "language_info": {
   "codemirror_mode": {
    "name": "ipython",
    "version": 3
   },
   "file_extension": ".py",
   "mimetype": "text/x-python",
   "name": "python",
   "nbconvert_exporter": "python",
   "pygments_lexer": "ipython3",
   "version": "3.6.6"
  }
 },
 "nbformat": 4,
 "nbformat_minor": 4
}
